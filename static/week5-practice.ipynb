{
 "metadata": {
  "language_info": {
   "codemirror_mode": {
    "name": "ipython",
    "version": 3
   },
   "file_extension": ".py",
   "mimetype": "text/x-python",
   "name": "python",
   "nbconvert_exporter": "python",
   "pygments_lexer": "ipython3",
   "version": "3.8.2-final"
  },
  "orig_nbformat": 2,
  "kernelspec": {
   "name": "python_defaultSpec_1599614934474",
   "display_name": "Python 3.8.2 64-bit ('env': venv)"
  }
 },
 "nbformat": 4,
 "nbformat_minor": 2,
 "cells": [
  {
   "cell_type": "markdown",
   "metadata": {},
   "source": [
    "# Week 5"
   ]
  },
  {
   "cell_type": "code",
   "execution_count": 2,
   "metadata": {},
   "outputs": [],
   "source": [
    "import nltk  # make sure NLTK is installed and loaded"
   ]
  },
  {
   "cell_type": "markdown",
   "metadata": {},
   "source": [
    "## Word Lists\n",
    "\n",
    "Use the `nltk.corpus.words` wordlist to estimate the following for several text corpora."
   ]
  },
  {
   "cell_type": "code",
   "execution_count": 4,
   "metadata": {
    "tags": []
   },
   "outputs": [
    {
     "output_type": "stream",
     "name": "stderr",
     "text": "[nltk_data] Downloading package words to /home/goodmami/nltk_data...\n[nltk_data]   Package words is already up-to-date!\n[nltk_data] Downloading package gutenberg to\n[nltk_data]     /home/goodmami/nltk_data...\n[nltk_data]   Package gutenberg is already up-to-date!\n"
    }
   ],
   "source": [
    "nltk.download('words')\n",
    "nltk.download('gutenberg')\n",
    "from nltk.corpus import words\n",
    "from nltk.corpus import gutenberg "
   ]
  },
  {
   "cell_type": "markdown",
   "metadata": {},
   "source": [
    "- Choose a variety of texts from the Gutenberg corpus. What percentage of the texts' vocabularies are not in the wordlist?"
   ]
  },
  {
   "cell_type": "code",
   "execution_count": 6,
   "metadata": {},
   "outputs": [
    {
     "output_type": "execute_result",
     "data": {
      "text/plain": "['austen-emma.txt',\n 'austen-persuasion.txt',\n 'austen-sense.txt',\n 'bible-kjv.txt',\n 'blake-poems.txt',\n 'bryant-stories.txt',\n 'burgess-busterbrown.txt',\n 'carroll-alice.txt',\n 'chesterton-ball.txt',\n 'chesterton-brown.txt',\n 'chesterton-thursday.txt',\n 'edgeworth-parents.txt',\n 'melville-moby_dick.txt',\n 'milton-paradise.txt',\n 'shakespeare-caesar.txt',\n 'shakespeare-hamlet.txt',\n 'shakespeare-macbeth.txt',\n 'whitman-leaves.txt']"
     },
     "metadata": {},
     "execution_count": 6
    }
   ],
   "source": [
    "gutenberg.fileids()  # inspect available files"
   ]
  },
  {
   "cell_type": "code",
   "execution_count": 8,
   "metadata": {},
   "outputs": [],
   "source": [
    "files = ['austen-emma.txt', 'milton-paradise.txt', 'shakespeare-macbeth.txt']  # choose some"
   ]
  },
  {
   "cell_type": "code",
   "execution_count": 10,
   "metadata": {
    "tags": []
   },
   "outputs": [
    {
     "output_type": "stream",
     "name": "stdout",
     "text": "austen-emma.txt\n  sample: ['austen', 'seemed', 'blessings', 'years', 'youngest', 'daughters', 'died', 'caresses', 'supplied', 'years']\n  percent of tokens that are unknown: 8.593440594059405\n  percent of types that are unknown: 28.323209492866223\nmilton-paradise.txt\n  sample: ['john', 'milton', 'eden', 'oreb', 'sinai', 'siloa', 'flowed', 'intends', 'aonian', 'pursues']\n  percent of tokens that are unknown: 10.301516902090865\n  percent of types that are unknown: 34.33983286908078\nshakespeare-macbeth.txt\n  sample: ['tragedie', 'macbeth', 'william', 'shakespeare', 'actus', 'scoena', 'witches', 'againe', 'raine', 'burley']\n  percent of tokens that are unknown: 23.664623467600702\n  percent of types that are unknown: 51.05889178996229\n"
    }
   ],
   "source": [
    "WORDS = set(words.words())  # words.words() is a list; make it a set to speed up lookup\n",
    "for file in files:\n",
    "    # Get the list of words in the text and normalize early.\n",
    "    # The isalpha() filter removes tokens like \",\", but also valid words with punctuation.\n",
    "    # How you normalize and filter is up to you.\n",
    "    textwords = [w.lower() for w in gutenberg.words(file) if w.isalpha()]\n",
    "    # Words not in the set of \"known\" words are often called OOV (out-of-vocabulary)\n",
    "    oov = [w for w in textwords if w not in WORDS]\n",
    "    print(file)\n",
    "    print('  sample:', oov[:10])\n",
    "    print('  percent of tokens that are unknown:', 100 * len(oov) / len(textwords))\n",
    "    print('  percent of types that are unknown:', 100 * len(set(oov)) / len(set(textwords)))"
   ]
  },
  {
   "cell_type": "markdown",
   "metadata": {},
   "source": [
    "- What percentage of the wordlist are present in the texts?"
   ]
  },
  {
   "cell_type": "code",
   "execution_count": 12,
   "metadata": {
    "tags": []
   },
   "outputs": [
    {
     "output_type": "stream",
     "name": "stdout",
     "text": "austen-emma.txt\n  percent of wordlist present in text: 2.150984348769776\nmilton-paradise.txt\n  percent of wordlist present in text: 2.498177131907822\nshakespeare-macbeth.txt\n  percent of wordlist present in text: 0.7151577840706764\n"
    }
   ],
   "source": [
    "for file in files:\n",
    "    # Get the list of words, as before.\n",
    "    textwords = [w.lower() for w in gutenberg.words(file) if w.isalpha()]\n",
    "    # IV = in-vocabulary, by analogy to OOV\n",
    "    iv = [w for w in textwords if w in WORDS]\n",
    "    print(file)\n",
    "    print('  percent of wordlist present in text:', 100 * len(set(iv)) / len(WORDS))\n"
   ]
  },
  {
   "cell_type": "markdown",
   "metadata": {},
   "source": [
    "## CMU Pronouncing Dictionary\n",
    "\n",
    "Use the ARPABET transcriptions in the `nltk.corpus.cmudict` corpus to investigate sound patterns."
   ]
  },
  {
   "cell_type": "code",
   "execution_count": 14,
   "metadata": {
    "tags": []
   },
   "outputs": [
    {
     "output_type": "stream",
     "name": "stderr",
     "text": "[nltk_data] Downloading package cmudict to /home/goodmami/nltk_data...\n[nltk_data]   Package cmudict is already up-to-date!\n"
    }
   ],
   "source": [
    "nltk.download('cmudict')\n",
    "from nltk.corpus import cmudict"
   ]
  },
  {
   "cell_type": "code",
   "execution_count": 16,
   "metadata": {},
   "outputs": [
    {
     "output_type": "execute_result",
     "data": {
      "text/plain": "[['P', 'R', 'AH0', 'N', 'AW1', 'N', 'S']]"
     },
     "metadata": {},
     "execution_count": 16
    }
   ],
   "source": [
    "cmu = cmudict.dict()\n",
    "cmu['pronounce']"
   ]
  },
  {
   "cell_type": "markdown",
   "metadata": {},
   "source": [
    "- Pick some minimal pairs and look at vowel differences (e.g., *pick* / *pack* / *peck* / *peak*)"
   ]
  },
  {
   "cell_type": "code",
   "execution_count": 18,
   "metadata": {
    "tags": []
   },
   "outputs": [
    {
     "output_type": "stream",
     "name": "stdout",
     "text": "pick -> [['P', 'IH1', 'K']]\npack -> [['P', 'AE1', 'K']]\npeck -> [['P', 'EH1', 'K']]\npeak -> [['P', 'IY1', 'K']]\n"
    }
   ],
   "source": [
    "for word in ('pick', 'pack', 'peck', 'peak'):\n",
    "    print(word, '->', cmu[word])"
   ]
  },
  {
   "cell_type": "markdown",
   "metadata": {},
   "source": [
    "- Devise a function for identifying rhyming words (how they are identified is up to you)"
   ]
  },
  {
   "cell_type": "code",
   "execution_count": 20,
   "metadata": {
    "tags": []
   },
   "outputs": [
    {
     "output_type": "stream",
     "name": "stdout",
     "text": "rhymes with \"pack\":\n   pick False\n   peck False\n   peak False\n   back True\n   track True\n"
    }
   ],
   "source": [
    "def rhymes(word1, word2):\n",
    "    pron_list1 = cmu[word1]\n",
    "    pron_list2 = cmu[word2]\n",
    "    return any(p1[-2:] == p2[-2:]  # are the last 2 phonemes enough? are they too much?\n",
    "               for p1 in pron_list1\n",
    "               for p2 in pron_list2)\n",
    "\n",
    "print('rhymes with \"pack\":')\n",
    "for other in ('pick', 'peck', 'peak', 'back', 'track'):\n",
    "    print('  ', other, rhymes('pack', other))"
   ]
  },
  {
   "cell_type": "markdown",
   "metadata": {},
   "source": [
    "* (extra) why doesn't something like \"smokestack\" or \"quarterback\" rhyme with \"pack\" according to the function above?"
   ]
  },
  {
   "cell_type": "code",
   "execution_count": 22,
   "metadata": {
    "tags": []
   },
   "outputs": [
    {
     "output_type": "stream",
     "name": "stdout",
     "text": "pack [['P', 'AE1', 'K']]\nsmokestack [['S', 'M', 'OW1', 'K', 'S', 'T', 'AE2', 'K']]\nquarterback [['K', 'W', 'AO1', 'R', 'T', 'ER0', 'B', 'AE2', 'K'], ['K', 'AO1', 'R', 'T', 'ER0', 'B', 'AE2', 'K']]\n"
    }
   ],
   "source": [
    "for word in ('pack', 'smokestack', 'quarterback'):\n",
    "    print(word, cmu[word])"
   ]
  },
  {
   "cell_type": "markdown",
   "metadata": {},
   "source": [
    "- What are the largest clusters of rhyming words?"
   ]
  },
  {
   "cell_type": "code",
   "execution_count": 24,
   "metadata": {
    "tags": []
   },
   "outputs": [
    {
     "output_type": "stream",
     "name": "stdout",
     "text": "largest cluster\n  scheme: ('AH0', 'N')\n  size: 9100\nlargest cluster\n  scheme: ('AH0', 'N')\n  size: 9100\nsample: ['aachen', 'aaron', 'aaronson', 'aaronson', 'aasen', 'abandon', 'abbreviation', 'abdication', 'abdomen', 'abdomen']\n"
    }
   ],
   "source": [
    "# first create a structure mapping each rhyming scheme to the list of words ending in the scheme\n",
    "clusters = {}\n",
    "for word, pron_list in cmu.items():\n",
    "    for pron in pron_list:\n",
    "        scheme = tuple(pron[-2:])  # make it a tuple so it can be a dictionary key\n",
    "        # initialize an empty list if we haven't seem the rhyming scheme before\n",
    "        if scheme not in clusters:\n",
    "            clusters[scheme] = []\n",
    "        clusters[scheme].append(word)\n",
    "\n",
    "# To find the largets cluster, we could go through each and keep track of the largest we've seen:\n",
    "max_scheme = None\n",
    "max_value = 0\n",
    "for scheme, cluster in clusters.items():\n",
    "    if len(cluster) > max_value:\n",
    "        max_scheme = scheme\n",
    "        max_value = len(cluster)\n",
    "print('largest cluster')\n",
    "print('  scheme:', max_scheme)\n",
    "print('  size:', len(clusters[max_scheme]))\n",
    "\n",
    "# Alternatively, use the max() function with a \"lambda\" expression (like an inline function)\n",
    "max_scheme = max(clusters, key=lambda scheme: len(clusters[scheme]))\n",
    "print('largest cluster')\n",
    "print('  scheme:', max_scheme)\n",
    "print('  size:', len(clusters[max_scheme]))\n",
    "\n",
    "print('sample:', clusters[max_scheme][:10])"
   ]
  },
  {
   "cell_type": "markdown",
   "metadata": {},
   "source": [
    "## WordNet\n",
    "\n",
    "Use `nltk.corpus.wordnet` to look at word relations."
   ]
  },
  {
   "cell_type": "code",
   "execution_count": 26,
   "metadata": {
    "tags": []
   },
   "outputs": [
    {
     "output_type": "stream",
     "name": "stderr",
     "text": "[nltk_data] Downloading package wordnet to /home/goodmami/nltk_data...\n[nltk_data]   Package wordnet is already up-to-date!\n"
    }
   ],
   "source": [
    "nltk.download('wordnet')\n",
    "from nltk.corpus import wordnet as wn"
   ]
  },
  {
   "cell_type": "markdown",
   "metadata": {},
   "source": [
    "- What are the synsets of *student*?"
   ]
  },
  {
   "cell_type": "code",
   "execution_count": 28,
   "metadata": {},
   "outputs": [
    {
     "output_type": "execute_result",
     "data": {
      "text/plain": "[Synset('student.n.01'), Synset('scholar.n.01')]"
     },
     "metadata": {},
     "execution_count": 28
    }
   ],
   "source": [
    "wn.synsets('student')"
   ]
  },
  {
   "cell_type": "markdown",
   "metadata": {},
   "source": [
    "- What is the definition of each synset of student?"
   ]
  },
  {
   "cell_type": "code",
   "execution_count": 30,
   "metadata": {
    "tags": []
   },
   "outputs": [
    {
     "output_type": "stream",
     "name": "stdout",
     "text": "Synset('student.n.01') a learner who is enrolled in an educational institution\nSynset('scholar.n.01') a learned person (especially in the humanities); someone who by long study has gained mastery in one or more disciplines\n"
    }
   ],
   "source": [
    "for synset in wn.synsets('student'):\n",
    "    print(synset, synset.definition())"
   ]
  },
  {
   "cell_type": "markdown",
   "metadata": {},
   "source": [
    "- What are the **hyponyms** of each synset of *student*?"
   ]
  },
  {
   "cell_type": "code",
   "execution_count": 32,
   "metadata": {
    "tags": []
   },
   "outputs": [
    {
     "output_type": "stream",
     "name": "stdout",
     "text": "Synset('student.n.01') [Synset('art_student.n.01'), Synset('auditor.n.02'), Synset('catechumen.n.01'), Synset('collegian.n.01'), Synset('crammer.n.01'), Synset('etonian.n.01'), Synset('ivy_leaguer.n.01'), Synset('law_student.n.01'), Synset('major.n.03'), Synset('medical_student.n.01'), Synset('nonreader.n.01'), Synset('overachiever.n.01'), Synset('passer.n.03'), Synset('scholar.n.03'), Synset('seminarian.n.01'), Synset('sixth-former.n.01'), Synset('skipper.n.01'), Synset('underachiever.n.01'), Synset('withdrawer.n.05'), Synset('wykehamist.n.01')]\n\nSynset('scholar.n.01') [Synset('academician.n.02'), Synset('alumnus.n.01'), Synset('arabist.n.01'), Synset('bibliographer.n.01'), Synset('bibliophile.n.01'), Synset('cabalist.n.03'), Synset('doctor.n.04'), Synset('goliard.n.01'), Synset('historian.n.01'), Synset('humanist.n.01'), Synset('initiate.n.02'), Synset('islamist.n.01'), Synset('licentiate.n.01'), Synset('masorete.n.01'), Synset('master.n.08'), Synset('mujtihad.n.01'), Synset('musicologist.n.01'), Synset('pedant.n.01'), Synset('philomath.n.01'), Synset('philosopher.n.01'), Synset('postdoc.n.02'), Synset('reader.n.01'), Synset('renaissance_man.n.01'), Synset('renaissance_man.n.02'), Synset('salutatorian.n.01'), Synset('scholiast.n.01'), Synset('schoolman.n.01'), Synset('shakespearian.n.01'), Synset('sinologist.n.01'), Synset('theologian.n.01'), Synset('valedictorian.n.01'), Synset('vedist.n.01')]\n\n"
    }
   ],
   "source": [
    "for synset in wn.synsets('student'):\n",
    "    print(synset, synset.hyponyms())\n",
    "    print()  # a blank line in between helps; these are long lists"
   ]
  },
  {
   "cell_type": "markdown",
   "metadata": {},
   "source": [
    "- How many synsets are avaiable for each of *professor*, *lecturer*, *instructor*, and *teacher*?"
   ]
  },
  {
   "cell_type": "code",
   "execution_count": 34,
   "metadata": {
    "tags": []
   },
   "outputs": [
    {
     "output_type": "stream",
     "name": "stdout",
     "text": "professor 1\nlecturer 2\ninstructor 1\nteacher 2\n"
    }
   ],
   "source": [
    "words = ('professor', 'lecturer', 'instructor', 'teacher')\n",
    "for word in words:\n",
    "    print(word, len(wn.synsets(word)))"
   ]
  },
  {
   "cell_type": "markdown",
   "metadata": {},
   "source": [
    "- Are there any overlapping synsets among them?"
   ]
  },
  {
   "cell_type": "code",
   "execution_count": 36,
   "metadata": {
    "tags": []
   },
   "outputs": [
    {
     "output_type": "stream",
     "name": "stdout",
     "text": "professor lecturer set()\nprofessor instructor set()\nprofessor teacher set()\nlecturer instructor set()\nlecturer teacher set()\ninstructor teacher {Synset('teacher.n.01')}\n"
    }
   ],
   "source": [
    "# the direction of the pairing (e.g., ('professor', 'lecturer') or ('lecturer', 'professor')\n",
    "# doesn't matter, so we'll avoid that with a slice in the second for-loop)\n",
    "for i, word1 in enumerate(words):\n",
    "    for word2 in words[i+1:]:\n",
    "        print(word1, word2, set(wn.synsets(word1)).intersection(wn.synsets(word2)))"
   ]
  },
  {
   "cell_type": "markdown",
   "metadata": {},
   "source": [
    "- Use the `lowest_common_hypernyms()` method on synsets to find what is the shared **hypernym** of *student* and *professor*. How about *professor* and *lecturer*?"
   ]
  },
  {
   "cell_type": "code",
   "execution_count": 38,
   "metadata": {},
   "outputs": [
    {
     "output_type": "execute_result",
     "data": {
      "text/plain": "[Synset('person.n.01')]"
     },
     "metadata": {},
     "execution_count": 38
    }
   ],
   "source": [
    "# for this I'll pick 'student.n.01' and 'professor.n.01'\n",
    "wn.synset('student.n.01').lowest_common_hypernyms(wn.synset('professor.n.01'))"
   ]
  },
  {
   "cell_type": "code",
   "execution_count": 40,
   "metadata": {},
   "outputs": [
    {
     "output_type": "execute_result",
     "data": {
      "text/plain": "[Synset('educator.n.01')]"
     },
     "metadata": {},
     "execution_count": 40
    }
   ],
   "source": [
    "# for this I'll pick 'professor.n.01' and 'lector.n.02'\n",
    "wn.synset('professor.n.01').lowest_common_hypernyms(wn.synset('lector.n.02'))"
   ]
  },
  {
   "cell_type": "markdown",
   "metadata": {},
   "source": [
    "- The synsets retrieved from WordNet are generally sorted by the frequency of occurrence (bonus question: how would the \"frequency of occurrence\" be computed?). Write a function that tags each word in a sentence with the first synset returned by WordNet. Skip words that do not return any synsets."
   ]
  },
  {
   "cell_type": "code",
   "execution_count": 42,
   "metadata": {
    "tags": []
   },
   "outputs": [
    {
     "output_type": "stream",
     "name": "stdout",
     "text": "[('I', Synset('iodine.n.01')), ('bought', Synset('buy.v.01')), ('a', Synset('angstrom.n.01')), ('mouse', Synset('mouse.n.01')), ('laptop', Synset('laptop.n.01'))]\n"
    }
   ],
   "source": [
    "# For bonus question: we need a corpus that has been annotated with word senses\n",
    "# to determine frequency *for that corpus*. The creators of the wordnet can also\n",
    "# order the synsets to encode general preference.\n",
    "def sense_tag(sentence):\n",
    "    words = sentence.split()\n",
    "    pairs = []\n",
    "    for word in words:\n",
    "        synsets = wn.synsets(word)\n",
    "        if synsets:\n",
    "            pairs.append((word, synsets[0]))  # only the first synset\n",
    "    return pairs\n",
    "\n",
    "print(sense_tag('I bought a mouse for my laptop'))"
   ]
  },
  {
   "cell_type": "markdown",
   "metadata": {},
   "source": [
    "Consider these sentences:\n",
    "  - *The doctor is in, today.*\n",
    "  - *The doctor is in the office, today.*\n",
    "  - *The doctor's shoes are very in, this season.*\n",
    "\n",
    "**Q:** With your sysent tagger, do all sentences get the same synset for *in*? Which sysnets should they get?"
   ]
  },
  {
   "cell_type": "code",
   "execution_count": 44,
   "metadata": {
    "tags": []
   },
   "outputs": [
    {
     "output_type": "stream",
     "name": "stdout",
     "text": "[('doctor', Synset('doctor.n.01')), ('is', Synset('be.v.01')), ('in', Synset('inch.n.01')), ('today', Synset('today.n.01'))]\n[('doctor', Synset('doctor.n.01')), ('is', Synset('be.v.01')), ('in', Synset('inch.n.01')), ('today', Synset('today.n.01'))]\n[('shoes', Synset('place.n.06')), ('are', Synset('are.n.01')), ('very', Synset('very.s.01')), ('in', Synset('inch.n.01')), ('season', Synset('season.n.01'))]\n"
    }
   ],
   "source": [
    "print(sense_tag('The doctor is in , today .'))  # spaces around punctuation because my tokenization is just split()\n",
    "print(sense_tag('The doctor is in the office, today .'))\n",
    "print(sense_tag(\"The doctor's shoes are very in , this season .\"))"
   ]
  },
  {
   "cell_type": "code",
   "execution_count": 46,
   "metadata": {
    "tags": []
   },
   "outputs": [
    {
     "output_type": "stream",
     "name": "stdout",
     "text": "Synset('inch.n.01') a unit of length equal to one twelfth of a foot\nSynset('indium.n.01') a rare soft silvery metallic element; occurs in small quantities in sphalerite\nSynset('indiana.n.01') a state in midwestern United States\nSynset('in.s.01') holding office\nSynset('in.s.02') directed or bound inward\nSynset('in.s.03') currently fashionable\nSynset('in.r.01') to or toward the inside of\n"
    }
   ],
   "source": [
    "for synset in wn.synsets('in'):\n",
    "    print(synset, synset.definition())"
   ]
  },
  {
   "cell_type": "markdown",
   "metadata": {},
   "source": [
    "They all get the same but it's correct for any. They should get:\n",
    "- in.s.01\n",
    "- None\n",
    "- in.s.03"
   ]
  },
  {
   "cell_type": "markdown",
   "metadata": {},
   "source": [
    "**Q:** Can you think of ways we might improve the tagger to get better performance?\n",
    "\n",
    "**A:** If we had the part-of-speech information for each word, this could help wordnet choose the correct synset more often. We could also try to build statistical models, for instance by looking at each word's left and right context to help decide, but this requires annotated data to train the model."
   ]
  },
  {
   "cell_type": "markdown",
   "metadata": {},
   "source": []
  },
  {
   "cell_type": "markdown",
   "metadata": {},
   "source": [
    "**Q:** How would we measure if the performance improves or degrades?\n",
    "\n",
    "**A:** We need some **gold standard** annotations to compare against. Without those, we would have to manually determine, with our own intuition, whether an annotation is correct or not, and this has issues with consistency and scale."
   ]
  },
  {
   "cell_type": "markdown",
   "metadata": {},
   "source": []
  }
 ]
}