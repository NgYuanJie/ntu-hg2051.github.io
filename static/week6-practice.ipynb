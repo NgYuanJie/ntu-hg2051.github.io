{
 "metadata": {
  "language_info": {
   "codemirror_mode": {
    "name": "ipython",
    "version": 3
   },
   "file_extension": ".py",
   "mimetype": "text/x-python",
   "name": "python",
   "nbconvert_exporter": "python",
   "pygments_lexer": "ipython3",
   "version": "3.8.2-final"
  },
  "orig_nbformat": 2,
  "kernelspec": {
   "name": "python_defaultSpec_1600418719709",
   "display_name": "Python 3.8.2 64-bit ('env': venv)"
  }
 },
 "nbformat": 4,
 "nbformat_minor": 2,
 "cells": [
  {
   "cell_type": "markdown",
   "metadata": {},
   "source": [
    "# Week 6\n",
    "\n",
    "This week is about getting data into Python from external sources, such as files on your computer or online. When working with these kinds of sources, we need to understand **character encodings** and **streams**. Additionally, this week we will cover **string formatting**, as it is useful when writing to files or to the terminal."
   ]
  },
  {
   "cell_type": "code",
   "execution_count": 74,
   "metadata": {},
   "outputs": [],
   "source": [
    "import nltk  # make sure NLTK is installed and loaded"
   ]
  },
  {
   "source": [
    "## Unicode\n",
    "\n",
    "Every character displayed by your computer is assigned a number. Before, each character set (e.g., for a language) chose different numbers for the characters, but this made it difficult to have documents with more than one character set. [Unicode](https://unicode.org/) is the modern standard for assigning these numbers, and it is one giant table comprising all the known characters, including some non-language characters (🥳🦥🌤...). In Python, strings are \"pure\" sequences of codepoints. You can find the codepoint (as an integer) of a character with Python's `ord()` function, and the character for a codepoint with the `chr()` function:"
   ],
   "cell_type": "markdown",
   "metadata": {}
  },
  {
   "cell_type": "code",
   "execution_count": 75,
   "metadata": {},
   "outputs": [
    {
     "output_type": "execute_result",
     "data": {
      "text/plain": "90"
     },
     "metadata": {},
     "execution_count": 75
    }
   ],
   "source": [
    "ord('Z')"
   ]
  },
  {
   "source": [
    "chr(129445)"
   ],
   "cell_type": "code",
   "metadata": {},
   "execution_count": 76,
   "outputs": [
    {
     "output_type": "execute_result",
     "data": {
      "text/plain": "'🦥'"
     },
     "metadata": {},
     "execution_count": 76
    }
   ]
  },
  {
   "source": [
    "In practice these two functions are used rarely, however."
   ],
   "cell_type": "markdown",
   "metadata": {}
  },
  {
   "cell_type": "markdown",
   "metadata": {},
   "source": [
    "## Encodings\n",
    "\n",
    "Whenever a unicode string needs to be stored or transmitted outside of Python it must be encoded into a sequence of bytes."
   ]
  },
  {
   "cell_type": "code",
   "execution_count": 77,
   "metadata": {
    "tags": []
   },
   "outputs": [
    {
     "output_type": "execute_result",
     "data": {
      "text/plain": "b'\\xe3\\x81\\x82'"
     },
     "metadata": {},
     "execution_count": 77
    }
   ],
   "source": [
    "'あ'.encode('utf-8')"
   ]
  },
  {
   "source": [
    "Similarly, bytes can be decoded to strings:"
   ],
   "cell_type": "markdown",
   "metadata": {}
  },
  {
   "cell_type": "code",
   "execution_count": 78,
   "metadata": {},
   "outputs": [
    {
     "output_type": "execute_result",
     "data": {
      "text/plain": "'あ'"
     },
     "metadata": {},
     "execution_count": 78
    }
   ],
   "source": [
    "b'\\xe3\\x81\\x82'.decode('utf-8')"
   ]
  },
  {
   "source": [
    "Notice that the `bytes` objects (the strings prefixed with `b`) use escape sequences to represent the bytes, such as `\\xe3` which represents the bits `1110 0011` (note: you do not need to know this conversion). Python also accepts escape sequences in regular strings, but numbers do not represent UTF-8 or some other encoding, but the numeric value of the codepoint (you do not need to learn these escapes, just recognize that `\\x`, `\\u` and `\\U` followed by 2, 4, or 8 hexadecimal digits (0123456789ABCDEF) is a unicode escape)."
   ],
   "cell_type": "markdown",
   "metadata": {}
  },
  {
   "cell_type": "code",
   "execution_count": 79,
   "metadata": {
    "tags": []
   },
   "outputs": [
    {
     "output_type": "execute_result",
     "data": {
      "text/plain": "'あ'"
     },
     "metadata": {},
     "execution_count": 79
    }
   ],
   "source": [
    "'\\u3042'"
   ]
  },
  {
   "source": [
    "Aside: If you want to find out the decimal value of the hexadecimal number, use the `int()` function with a base of 16:"
   ],
   "cell_type": "markdown",
   "metadata": {}
  },
  {
   "cell_type": "code",
   "execution_count": 80,
   "metadata": {},
   "outputs": [
    {
     "output_type": "execute_result",
     "data": {
      "text/plain": "12354"
     },
     "metadata": {},
     "execution_count": 80
    }
   ],
   "source": [
    "int('3042', 16)"
   ]
  },
  {
   "source": [
    "And you can get back the hexadecimal version with `hex()`:"
   ],
   "cell_type": "markdown",
   "metadata": {}
  },
  {
   "cell_type": "code",
   "execution_count": 81,
   "metadata": {},
   "outputs": [
    {
     "output_type": "execute_result",
     "data": {
      "text/plain": "'0x3042'"
     },
     "metadata": {},
     "execution_count": 81
    }
   ],
   "source": [
    "hex(12354)"
   ]
  },
  {
   "source": [
    "If you try to encode something not representable in the target encoding, you'll get an error. In this case, the letter 'é' is not part of the `ascii` encoding:"
   ],
   "cell_type": "markdown",
   "metadata": {}
  },
  {
   "cell_type": "code",
   "execution_count": 82,
   "metadata": {},
   "outputs": [
    {
     "output_type": "error",
     "ename": "UnicodeEncodeError",
     "evalue": "'ascii' codec can't encode character '\\xe9' in position 3: ordinal not in range(128)",
     "traceback": [
      "\u001b[0;31m---------------------------------------------------------------------------\u001b[0m",
      "\u001b[0;31mUnicodeEncodeError\u001b[0m                        Traceback (most recent call last)",
      "\u001b[0;32m<ipython-input-82-c93c3a7cc2e1>\u001b[0m in \u001b[0;36m<module>\u001b[0;34m\u001b[0m\n\u001b[0;32m----> 1\u001b[0;31m \u001b[0;34m'café'\u001b[0m\u001b[0;34m.\u001b[0m\u001b[0mencode\u001b[0m\u001b[0;34m(\u001b[0m\u001b[0;34m'ascii'\u001b[0m\u001b[0;34m)\u001b[0m\u001b[0;34m\u001b[0m\u001b[0;34m\u001b[0m\u001b[0m\n\u001b[0m",
      "\u001b[0;31mUnicodeEncodeError\u001b[0m: 'ascii' codec can't encode character '\\xe9' in position 3: ordinal not in range(128)"
     ]
    }
   ],
   "source": [
    "'café'.encode('ascii')"
   ]
  },
  {
   "source": [
    "You can tell Python what to do in case of errors, such as ignoring them (note that the letter doesn't appear in the output):"
   ],
   "cell_type": "markdown",
   "metadata": {}
  },
  {
   "cell_type": "code",
   "execution_count": 83,
   "metadata": {},
   "outputs": [
    {
     "output_type": "execute_result",
     "data": {
      "text/plain": "b'caf'"
     },
     "metadata": {},
     "execution_count": 83
    }
   ],
   "source": [
    "'café'.encode('ascii', errors='ignore')"
   ]
  },
  {
   "cell_type": "markdown",
   "metadata": {},
   "source": [
    "## Streams"
   ]
  },
  {
   "source": [
    "When you have a string in Python, you have the entire contents and you can query its length or access any character at once. When you're working with *streams*, however, you only get a small slice, or window, at a time. This is useful when the data is too large to fit into memory (like a dump of all of Wikipedia), or something that is slow to download.\n",
    "\n",
    "Here we will download the text of a book from Project Gutenberg (not using the NLTK):"
   ],
   "cell_type": "markdown",
   "metadata": {}
  },
  {
   "cell_type": "code",
   "execution_count": 84,
   "metadata": {},
   "outputs": [],
   "source": [
    "import urllib.request\n",
    "\n",
    "# urlopen() returns a stream, but then we call .read(), which fetches the whole thing.\n",
    "# The result is a bytes object, not str.\n",
    "bytestring = urllib.request.urlopen('http://gutenberg.org/files/13083/13083-0.txt').read()\n"
   ]
  },
  {
   "cell_type": "code",
   "execution_count": 85,
   "metadata": {
    "tags": []
   },
   "outputs": [
    {
     "output_type": "execute_result",
     "data": {
      "text/plain": "bytes"
     },
     "metadata": {},
     "execution_count": 85
    }
   ],
   "source": [
    "type(bytestring)"
   ]
  },
  {
   "source": [
    "Depending on the language, the data may not be very readable:"
   ],
   "cell_type": "markdown",
   "metadata": {}
  },
  {
   "cell_type": "code",
   "execution_count": 86,
   "metadata": {},
   "outputs": [
    {
     "output_type": "execute_result",
     "data": {
      "text/plain": "b'\\xc3\\xbastavu pro psychologii a v\\xc3\\xbdchovu robot\\xc5\\xaf'"
     },
     "metadata": {},
     "execution_count": 86
    }
   ],
   "source": [
    "bytestring[1004:1046]"
   ]
  },
  {
   "source": [
    "So we need to decode it:"
   ],
   "cell_type": "markdown",
   "metadata": {}
  },
  {
   "cell_type": "code",
   "execution_count": 87,
   "metadata": {},
   "outputs": [
    {
     "output_type": "execute_result",
     "data": {
      "text/plain": "str"
     },
     "metadata": {},
     "execution_count": 87
    }
   ],
   "source": [
    "string = bytestring.decode('utf-8')\n",
    "type(string)"
   ]
  },
  {
   "source": [
    "Now we can read the string (if we could read Czech). Note that the indices of the bytestring don't always line up with those of the string."
   ],
   "cell_type": "markdown",
   "metadata": {}
  },
  {
   "cell_type": "code",
   "execution_count": 88,
   "metadata": {},
   "outputs": [
    {
     "output_type": "execute_result",
     "data": {
      "text/plain": "'ústavu pro psychologii a výchovu robotů'"
     },
     "metadata": {},
     "execution_count": 88
    }
   ],
   "source": [
    "string[974:1013]"
   ]
  },
  {
   "source": [
    "We can also read and write files on disk using `open()`. Let's write the downloaded bytes directly to disk using `open()`'s `wb` (\"write bytes\") mode:"
   ],
   "cell_type": "markdown",
   "metadata": {}
  },
  {
   "cell_type": "code",
   "execution_count": 89,
   "metadata": {},
   "outputs": [],
   "source": [
    "with open('myfile.txt', 'wb') as f:\n",
    "    f.write(bytestring)"
   ]
  },
  {
   "source": [
    "Now confirm that we have written the file. You may need to change the encoding from `utf-8` to `utf-8-sig` on Windows."
   ],
   "cell_type": "markdown",
   "metadata": {}
  },
  {
   "cell_type": "code",
   "execution_count": 90,
   "metadata": {
    "tags": []
   },
   "outputs": [
    {
     "output_type": "execute_result",
     "data": {
      "text/plain": "'\\ufeffThe Project Gutenberg eBook, R.U.R., by Karel Čapek\\n\\n\\nThis eBook is for the use of anyone anywhere '"
     },
     "metadata": {},
     "execution_count": 90
    }
   ],
   "source": [
    "with open('myfile.txt', encoding='utf-8') as f:\n",
    "    string = f.read()\n",
    "string[:100]"
   ]
  },
  {
   "source": [
    "Instead of writing bytes directly, if you have the decoded string you can write in \"text\" mode (`wt`, or just `w`). In this case, it's best to specify your desired encoding. Also note that instead of `f.write(bytestring)`, you can use `print(string, file=f)`."
   ],
   "cell_type": "markdown",
   "metadata": {}
  },
  {
   "cell_type": "code",
   "execution_count": 91,
   "metadata": {},
   "outputs": [],
   "source": [
    "with open('myfile2.txt', 'wt', encoding='utf-8') as f:\n",
    "    print(string, file=f)"
   ]
  },
  {
   "cell_type": "markdown",
   "metadata": {},
   "source": [
    "## String Formatting\n",
    "\n",
    "When printing to the terminal or writing to disk, sometimes it helps to format the strings so they are more legible or so they follow a particular file format. The `str.format()` method or \"f-strings\" are two common ways to do so (see this week's reading for explanation of these).\n",
    "\n",
    "Write some code that takes a string and prints a table of each letter found in the string with its frequency. The frequency should be right aligned so number columns (ones, tens, etc.) line up. Don't use NLTK's `nltk.FreqDist.tabulate()` method, but you may use `nltk.FreqDist` to get the frequency information. You may choose to filter out non-letter characters."
   ]
  },
  {
   "cell_type": "code",
   "execution_count": 92,
   "metadata": {},
   "outputs": [],
   "source": [
    "# recall we can get the frequency distribution of a sequence (of words, or characters, etc.) with nltk.FreqDist\n",
    "import nltk\n",
    "with open('myfile.txt') as f:\n",
    "    # `f.read()` returns the full string of the file\n",
    "    # `if c.isalpha()` only keeps alphabetic characters (optional)\n",
    "    fd = nltk.FreqDist(c for c in f.read() if c.isalpha())"
   ]
  },
  {
   "cell_type": "code",
   "execution_count": 93,
   "metadata": {},
   "outputs": [
    {
     "output_type": "execute_result",
     "data": {
      "text/plain": "FreqDist({'e': 10013, 'o': 7979, 'a': 6453, 'n': 6291, 't': 6016, 'l': 4945, 'i': 4759, 's': 4357, 'r': 3717, 'm': 3482, ...})"
     },
     "metadata": {},
     "execution_count": 93
    }
   ],
   "source": [
    "fd"
   ]
  },
  {
   "source": [
    "For our table, we can use a fixed width between the character and the count, but here I first calculate the largest frequency then find its width when it is a string. This is the widest number that we will display. (This step is optional)."
   ],
   "cell_type": "markdown",
   "metadata": {}
  },
  {
   "cell_type": "code",
   "execution_count": 94,
   "metadata": {},
   "outputs": [],
   "source": [
    "maximum = max(fd.values())\n",
    "width = len(str(maximum)) "
   ]
  },
  {
   "source": [
    "Next we go over each letter in most-common-first order, then print the letter, a tab character (`\\t`), then the count right aligned in a span using the width we just calculated."
   ],
   "cell_type": "markdown",
   "metadata": {}
  },
  {
   "cell_type": "code",
   "execution_count": 95,
   "metadata": {
    "tags": []
   },
   "outputs": [
    {
     "output_type": "stream",
     "name": "stdout",
     "text": "e\t10013\no\t 7979\na\t 6453\nn\t 6291\nt\t 6016\nl\t 4945\ni\t 4759\ns\t 4357\nr\t 3717\nm\t 3482\nd\t 3119\nu\t 3050\nv\t 2840\nk\t 2324\nh\t 2198\nc\t 2187\ny\t 2076\nj\t 2027\np\t 2000\ní\t 1930\ná\t 1922\nb\t 1677\ně\t 1270\nz\t 1095\nž\t  941\nH\t  894\nš\t  774\nř\t  717\nD\t  699\nč\t  693\nP\t  610\nA\t  544\né\t  520\nR\t  481\nN\t  474\ný\t  433\nf\t  366\nG\t  362\nT\t  352\ng\t  352\nJ\t  299\nů\t  287\nB\t  263\nw\t  255\nS\t  236\nq\t  210\nV\t  201\nC\t  194\nF\t  192\nM\t  173\nO\t  163\nU\t  149\nK\t  130\nE\t  128\nď\t  109\nI\t  108\nZ\t  107\nL\t   90\nť\t   67\nň\t   57\nú\t   42\nó\t   35\nx\t   33\nŘ\t   30\nY\t   29\nČ\t   24\nŽ\t   24\nW\t   16\nÓ\t   14\nŠ\t    9\nÚ\t    5\nÍ\t    5\nĚ\t    3\nX\t    2\nŤ\t    1\nÉ\t    1\nQ\t    1\n"
    }
   ],
   "source": [
    "for c, count in fd.most_common():\n",
    "    # here I use f-string formatting. The same could be done with:\n",
    "    # print('{c}\\t{count:>{width}}'.format(c=c, count=count, width=width))\n",
    "    print(f'{c}\\t{count:>{width}}')"
   ]
  },
  {
   "cell_type": "code",
   "execution_count": null,
   "metadata": {},
   "outputs": [],
   "source": []
  }
 ]
}