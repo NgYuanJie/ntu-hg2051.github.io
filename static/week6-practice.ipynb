{
 "metadata": {
  "language_info": {
   "codemirror_mode": {
    "name": "ipython",
    "version": 3
   },
   "file_extension": ".py",
   "mimetype": "text/x-python",
   "name": "python",
   "nbconvert_exporter": "python",
   "pygments_lexer": "ipython3",
   "version": "3.8.2-final"
  },
  "orig_nbformat": 2,
  "kernelspec": {
   "name": "python_defaultSpec_1600418719709",
   "display_name": "Python 3.8.2 64-bit ('env': venv)"
  }
 },
 "nbformat": 4,
 "nbformat_minor": 2,
 "cells": [
  {
   "cell_type": "markdown",
   "metadata": {},
   "source": [
    "# Week 6\n",
    "\n",
    "This week is about getting data into Python from external sources, such as files on your computer or online. When working with these kinds of sources, we need to understand **character encodings** and **streams**. Additionally, this week we will cover **string formatting**, as it is useful when writing to files or to the terminal."
   ]
  },
  {
   "cell_type": "code",
   "execution_count": 1,
   "metadata": {},
   "outputs": [],
   "source": [
    "import nltk  # make sure NLTK is installed and loaded"
   ]
  },
  {
   "source": [
    "## Unicode\n",
    "\n",
    "Every character displayed by your computer is assigned a number. Before, each character set (e.g., for a language) chose different numbers for the characters, but this made it difficult to have documents with more than one character set. [Unicode](https://unicode.org/) is the modern standard for assigning these numbers, and it is one giant table comprising all the known characters, including some non-language characters (🥳🦥🌤...). In Python, strings are \"pure\" sequences of codepoints"
   ],
   "cell_type": "markdown",
   "metadata": {}
  },
  {
   "cell_type": "markdown",
   "metadata": {},
   "source": [
    "## Encodings\n",
    "\n",
    "Whenever a unicode string needs to be stored or transmitted outside of Python it must be encoded into a sequence of bytes."
   ]
  },
  {
   "cell_type": "code",
   "execution_count": 3,
   "metadata": {
    "tags": []
   },
   "outputs": [
    {
     "output_type": "execute_result",
     "data": {
      "text/plain": "b'\\xe3\\x81\\x82'"
     },
     "metadata": {},
     "execution_count": 3
    }
   ],
   "source": [
    "'あ'.encode('utf-8')"
   ]
  },
  {
   "cell_type": "code",
   "execution_count": 7,
   "metadata": {},
   "outputs": [
    {
     "output_type": "execute_result",
     "data": {
      "text/plain": "'あ'"
     },
     "metadata": {},
     "execution_count": 7
    }
   ],
   "source": [
    "b'\\xe3\\x81\\x82'.decode('utf-8')"
   ]
  },
  {
   "cell_type": "code",
   "execution_count": 19,
   "metadata": {
    "tags": []
   },
   "outputs": [
    {
     "output_type": "execute_result",
     "data": {
      "text/plain": "'あ'"
     },
     "metadata": {},
     "execution_count": 19
    }
   ],
   "source": [
    "'\\u3042'"
   ]
  },
  {
   "cell_type": "code",
   "execution_count": 16,
   "metadata": {},
   "outputs": [
    {
     "output_type": "execute_result",
     "data": {
      "text/plain": "12354"
     },
     "metadata": {},
     "execution_count": 16
    }
   ],
   "source": [
    "int('3042', 16)"
   ]
  },
  {
   "cell_type": "code",
   "execution_count": 20,
   "metadata": {},
   "outputs": [
    {
     "output_type": "execute_result",
     "data": {
      "text/plain": "b'caf'"
     },
     "metadata": {},
     "execution_count": 20
    }
   ],
   "source": [
    "'café'.encode('ascii', errors='ignore')"
   ]
  },
  {
   "cell_type": "code",
   "execution_count": 23,
   "metadata": {
    "tags": []
   },
   "outputs": [
    {
     "output_type": "stream",
     "name": "stdout",
     "text": "a 97\nb 98\nc 99\nd 100\ne 101\nf 102\ng 103\nh 104\ni 105\nj 106\nk 107\nl 108\nm 109\nn 110\no 111\np 112\nq 113\nr 114\ns 115\nt 116\nu 117\nv 118\nw 119\nx 120\ny 121\nz 122\n"
    }
   ],
   "source": [
    "for c in 'abcdefghijklmnopqrstuvwxyz':\n",
    "    print(c, ord(c))"
   ]
  },
  {
   "cell_type": "code",
   "execution_count": 25,
   "metadata": {},
   "outputs": [
    {
     "output_type": "execute_result",
     "data": {
      "text/plain": "'0x78'"
     },
     "metadata": {},
     "execution_count": 25
    }
   ],
   "source": [
    "hex(120)"
   ]
  },
  {
   "cell_type": "code",
   "execution_count": 27,
   "metadata": {},
   "outputs": [
    {
     "output_type": "execute_result",
     "data": {
      "text/plain": "'x'"
     },
     "metadata": {},
     "execution_count": 27
    }
   ],
   "source": [
    "chr(120)"
   ]
  },
  {
   "cell_type": "code",
   "execution_count": 29,
   "metadata": {},
   "outputs": [
    {
     "output_type": "execute_result",
     "data": {
      "text/plain": "12354"
     },
     "metadata": {},
     "execution_count": 29
    }
   ],
   "source": [
    "ord('あ')"
   ]
  },
  {
   "cell_type": "code",
   "execution_count": 30,
   "metadata": {},
   "outputs": [
    {
     "output_type": "execute_result",
     "data": {
      "text/plain": "'0x3042'"
     },
     "metadata": {},
     "execution_count": 30
    }
   ],
   "source": [
    "hex(12354)"
   ]
  },
  {
   "cell_type": "markdown",
   "metadata": {},
   "source": [
    "## Streams"
   ]
  },
  {
   "cell_type": "code",
   "execution_count": 33,
   "metadata": {},
   "outputs": [],
   "source": [
    "import urllib.request\n",
    "\n",
    "bytestring = urllib.request.urlopen('http://gutenberg.org/files/13083/13083-0.txt').read()\n"
   ]
  },
  {
   "cell_type": "code",
   "execution_count": 39,
   "metadata": {
    "tags": []
   },
   "outputs": [
    {
     "output_type": "execute_result",
     "data": {
      "text/plain": "bytes"
     },
     "metadata": {},
     "execution_count": 39
    }
   ],
   "source": [
    "type(bytestring)"
   ]
  },
  {
   "cell_type": "code",
   "execution_count": 41,
   "metadata": {},
   "outputs": [
    {
     "output_type": "execute_result",
     "data": {
      "text/plain": "str"
     },
     "metadata": {},
     "execution_count": 41
    }
   ],
   "source": [
    "string = bytestring.decode('utf-8')\n",
    "type(string)"
   ]
  },
  {
   "cell_type": "code",
   "execution_count": 48,
   "metadata": {},
   "outputs": [],
   "source": [
    "with open('myfile.txt', 'wb') as f:\n",
    "    f.write(bytestring)"
   ]
  },
  {
   "cell_type": "code",
   "execution_count": 52,
   "metadata": {
    "tags": []
   },
   "outputs": [],
   "source": [
    "with open('myfile.txt', encoding='utf-8_with_bom') as f:\n",
    "    string = f.read()"
   ]
  },
  {
   "cell_type": "code",
   "execution_count": 53,
   "metadata": {},
   "outputs": [],
   "source": [
    "with open('myfile2.txt', 'wt', encoding='utf-16') as f:\n",
    "    print(string, file=f)"
   ]
  },
  {
   "cell_type": "code",
   "execution_count": null,
   "metadata": {},
   "outputs": [],
   "source": [
    "'\\xff\\xfe'"
   ]
  },
  {
   "cell_type": "markdown",
   "metadata": {},
   "source": [
    "## String Formatting"
   ]
  },
  {
   "cell_type": "markdown",
   "metadata": {},
   "source": [
    "\n",
    ">>> tabulate_chars(string)\n",
    "e      1050233\n",
    "t       559024\n",
    "a       480902\n",
    "o       239402\n",
    "...\n"
   ]
  },
  {
   "cell_type": "code",
   "execution_count": 54,
   "metadata": {},
   "outputs": [],
   "source": [
    "import nltk\n",
    "with open('myfile.txt') as f:\n",
    "    fd = nltk.FreqDist(c for c in f.read() if c.isalpha())"
   ]
  },
  {
   "cell_type": "code",
   "execution_count": 55,
   "metadata": {},
   "outputs": [
    {
     "output_type": "execute_result",
     "data": {
      "text/plain": "FreqDist({'e': 10013, 'o': 7979, 'a': 6453, 'n': 6291, 't': 6016, 'l': 4945, 'i': 4759, 's': 4357, 'r': 3717, 'm': 3482, ...})"
     },
     "metadata": {},
     "execution_count": 55
    }
   ],
   "source": [
    "fd"
   ]
  },
  {
   "cell_type": "code",
   "execution_count": 57,
   "metadata": {},
   "outputs": [],
   "source": [
    "maximum = max(fd.values())\n",
    "width = len(str(maximum))"
   ]
  },
  {
   "cell_type": "code",
   "execution_count": 63,
   "metadata": {
    "tags": []
   },
   "outputs": [
    {
     "output_type": "stream",
     "name": "stdout",
     "text": "e\t10013\no\t 7979\na\t 6453\nn\t 6291\nt\t 6016\nl\t 4945\ni\t 4759\ns\t 4357\nr\t 3717\nm\t 3482\nd\t 3119\nu\t 3050\nv\t 2840\nk\t 2324\nh\t 2198\nc\t 2187\ny\t 2076\nj\t 2027\np\t 2000\ní\t 1930\ná\t 1922\nb\t 1677\ně\t 1270\nz\t 1095\nž\t  941\nH\t  894\nš\t  774\nř\t  717\nD\t  699\nč\t  693\nP\t  610\nA\t  544\né\t  520\nR\t  481\nN\t  474\ný\t  433\nf\t  366\nG\t  362\nT\t  352\ng\t  352\nJ\t  299\nů\t  287\nB\t  263\nw\t  255\nS\t  236\nq\t  210\nV\t  201\nC\t  194\nF\t  192\nM\t  173\nO\t  163\nU\t  149\nK\t  130\nE\t  128\nď\t  109\nI\t  108\nZ\t  107\nL\t   90\nť\t   67\nň\t   57\nú\t   42\nó\t   35\nx\t   33\nŘ\t   30\nY\t   29\nČ\t   24\nŽ\t   24\nW\t   16\nÓ\t   14\nŠ\t    9\nÚ\t    5\nÍ\t    5\nĚ\t    3\nX\t    2\nŤ\t    1\nÉ\t    1\nQ\t    1\n"
    }
   ],
   "source": [
    "for c, count in fd.most_common():\n",
    "    print(f'{c}\\t{count:>{width}}')"
   ]
  },
  {
   "cell_type": "code",
   "execution_count": null,
   "metadata": {},
   "outputs": [],
   "source": []
  }
 ]
}