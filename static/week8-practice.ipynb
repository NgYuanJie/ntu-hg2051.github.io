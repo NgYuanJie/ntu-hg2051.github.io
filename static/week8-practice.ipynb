{
 "metadata": {
  "language_info": {
   "codemirror_mode": {
    "name": "ipython",
    "version": 3
   },
   "file_extension": ".py",
   "mimetype": "text/x-python",
   "name": "python",
   "nbconvert_exporter": "python",
   "pygments_lexer": "ipython3",
   "version": "3.8.2-final"
  },
  "orig_nbformat": 2,
  "kernelspec": {
   "name": "Python 3.8.2 64-bit ('env')",
   "display_name": "Python 3.8.2 64-bit ('env')",
   "metadata": {
    "interpreter": {
     "hash": "84708403546ecd1e3944b1508f8d5c894da9f0666a04f38efb485e053f6828a8"
    }
   }
  }
 },
 "nbformat": 4,
 "nbformat_minor": 2,
 "cells": [
  {
   "source": [
    "# Week 8\n",
    "\n",
    "Regular expressions, stemming, lemmatization, and segmentation."
   ],
   "cell_type": "markdown",
   "metadata": {}
  },
  {
   "source": [
    "# Regex Basics\n",
    "\n",
    "First import the `re` library:"
   ],
   "cell_type": "markdown",
   "metadata": {}
  },
  {
   "cell_type": "code",
   "execution_count": null,
   "metadata": {},
   "outputs": [],
   "source": [
    "import re"
   ]
  },
  {
   "source": [
    "Then use `re.match()` to match the following strings:"
   ],
   "cell_type": "markdown",
   "metadata": {}
  },
  {
   "cell_type": "code",
   "execution_count": null,
   "metadata": {},
   "outputs": [],
   "source": [
    "re.match(r'', 'a')  # a single 'a'"
   ]
  },
  {
   "cell_type": "code",
   "execution_count": null,
   "metadata": {},
   "outputs": [],
   "source": [
    "re.match(r'', 'aaaaa')  # multiple 'a's"
   ]
  },
  {
   "cell_type": "code",
   "execution_count": null,
   "metadata": {},
   "outputs": [],
   "source": [
    "re.match(r'', 'abcdefghijklmnopqrstuvwxyz')  # any letter"
   ]
  },
  {
   "cell_type": "code",
   "execution_count": null,
   "metadata": {},
   "outputs": [],
   "source": [
    "re.match(r'', 'AaBbCc')  # upper and lower-case letters"
   ]
  },
  {
   "cell_type": "code",
   "execution_count": null,
   "metadata": {},
   "outputs": [],
   "source": [
    "re.match(r'', 'Aあ啊')  # all word characters (hint, use a character class)"
   ]
  },
  {
   "source": [
    "Now use `re.search()` to find a match while ignoring false matches"
   ],
   "cell_type": "markdown",
   "metadata": {}
  },
  {
   "cell_type": "code",
   "execution_count": null,
   "metadata": {
    "tags": []
   },
   "outputs": [],
   "source": [
    "# match the article 'a' but not other 'a's\n",
    "for s in ('Apples are a fruit', 'An apple each day', 'A pear is not an apple'):\n",
    "    print(re.match(r'', s))"
   ]
  },
  {
   "source": [
    "Use `re.findall()` over the text of Jane Austen's *Sense and Sensibility* to find hyphenated words:"
   ],
   "cell_type": "markdown",
   "metadata": {}
  },
  {
   "cell_type": "code",
   "execution_count": null,
   "metadata": {},
   "outputs": [],
   "source": [
    "import nltk\n",
    "sense = nltk.corpus.gutenberg.raw('austen-sense.txt')"
   ]
  },
  {
   "cell_type": "code",
   "execution_count": null,
   "metadata": {},
   "outputs": [],
   "source": [
    "re.findall(r'', sense)"
   ]
  },
  {
   "source": [
    "Now detect -y words inflected as -ies (e.g., *fly* -> *flies*). Save them to a set called `ies`."
   ],
   "cell_type": "markdown",
   "metadata": {}
  },
  {
   "cell_type": "code",
   "execution_count": null,
   "metadata": {},
   "outputs": [],
   "source": [
    "ies = set(re.findall(r'', sense))\n",
    "ies"
   ]
  },
  {
   "source": [
    "Use `re.sub()` to try and deinflect them to their dictionary form, and check if they are in the dictionary."
   ],
   "cell_type": "markdown",
   "metadata": {}
  },
  {
   "cell_type": "code",
   "execution_count": null,
   "metadata": {},
   "outputs": [],
   "source": [
    "WORDS = nltk.corpus.words.words()"
   ]
  },
  {
   "cell_type": "code",
   "execution_count": null,
   "metadata": {
    "tags": []
   },
   "outputs": [],
   "source": [
    "for word in ies:\n",
    "    y = re.sub(r'', r'', word)\n",
    "    if y.lower() in WORDS:\n",
    "        print('YES', word)\n",
    "    else:\n",
    "        print('NO ', word)"
   ]
  }
 ]
}